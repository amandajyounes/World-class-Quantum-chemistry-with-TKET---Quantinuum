{
 "cells": [
  {
   "cell_type": "markdown",
   "id": "ca519644",
   "metadata": {},
   "source": [
    "Use features from the package pytket.passes to optimize the LiH and H2 example provided\n",
    "UCLA Bruinium\n",
    "Augest 2022"
   ]
  },
  {
   "cell_type": "code",
   "execution_count": 1,
   "id": "a35d90f5",
   "metadata": {},
   "outputs": [],
   "source": [
    "# import the packages\n",
    "from pytket.qasm import circuit_to_qasm, circuit_from_qasm\n",
    "from pytket.passes import DecomposeMultiQubitsCX, SequencePass, OptimisePhaseGadgets, CommuteThroughMultis, RemoveRedundancies, RepeatPass, RepeatWithMetricPass\n",
    "from pytket.predicates import CompilationUnit\n",
    "from pytket.circuit import OpType\n",
    "from pytket.extensions.qiskit import AerBackend, AerStateBackend, IBMQEmulatorBackend\n",
    "from pytket.architecture import Architecture\n",
    "from pytket.circuit import Node"
   ]
  },
  {
   "cell_type": "code",
   "execution_count": 2,
   "id": "c7ac61e3",
   "metadata": {},
   "outputs": [],
   "source": [
    "# import the circuit from QASM file\n",
    "CircLiH = circuit_from_qasm('LiHJordanWignerMapper.qasm')\n",
    "CircHH = circuit_from_qasm('H2JordanWignerMapper.qasm')"
   ]
  },
  {
   "cell_type": "code",
   "execution_count": 3,
   "id": "3e0518bb",
   "metadata": {},
   "outputs": [],
   "source": [
    "# Print out the number of qubits, circuit depth and depth of CX gate\n",
    "def CircuitPara(circ):\n",
    "    print('Qubits: '+ str(circ.n_qubits))\n",
    "    print('Depth: ' + str(circ.depth()))\n",
    "    print('Depth CX: ' + str(circ.depth_by_type(OpType.CX)))"
   ]
  },
  {
   "cell_type": "code",
   "execution_count": 4,
   "id": "d70fb60f",
   "metadata": {},
   "outputs": [
    {
     "name": "stdout",
     "output_type": "stream",
     "text": [
      "LiH Jordan Winger Mapper\n",
      "Qubits: 12\n",
      "Depth: 9834\n",
      "Depth CX: 7964\n",
      "------------------------\n",
      "H2 Jordan Winger Mapper\n",
      "Qubits: 4\n",
      "Depth: 83\n",
      "Depth CX: 52\n"
     ]
    }
   ],
   "source": [
    "# number of qubits and circuit depth\n",
    "print('LiH Jordan Winger Mapper')\n",
    "CircuitPara(CircLiH)\n",
    "print('------------------------')\n",
    "print('H2 Jordan Winger Mapper')\n",
    "CircuitPara(CircHH)"
   ]
  },
  {
   "cell_type": "code",
   "execution_count": 5,
   "id": "bf6566cb",
   "metadata": {},
   "outputs": [],
   "source": [
    "# Different cost functions\n",
    "# 𝑛-qubit gates having a cost of  𝑛^2\n",
    "def cost1(circ):\n",
    "    return sum(pow(len(x.args), 2) for x in circ)\n",
    "# cost by the depth of the circuit\n",
    "def cost2(circ):\n",
    "    return circ.depth()\n",
    "# cost by the CX depth of the circuit\n",
    "def cost3(circ):\n",
    "    return circ.depth_by_type(OpType.CX)"
   ]
  },
  {
   "cell_type": "code",
   "execution_count": 6,
   "id": "58e4ccb2",
   "metadata": {},
   "outputs": [],
   "source": [
    "# Optimize the circ with the pass1 based on the cost function\n",
    "def OptiCircuit(circ,cost,pass1):\n",
    "    pass2 = RepeatWithMetricPass(pass1, cost)\n",
    "    cu = CompilationUnit(circ)\n",
    "    pass2.apply(cu)\n",
    "    return cu.circuit"
   ]
  },
  {
   "cell_type": "code",
   "execution_count": 7,
   "id": "2a88731c",
   "metadata": {},
   "outputs": [],
   "source": [
    "# Compile it according to the backend\n",
    "def CompToBackend(circ,backend):\n",
    "    if backend.valid_circuit(circ):\n",
    "        print('The optimized circuit is valid for the backend')\n",
    "        return circ\n",
    "    else:\n",
    "        print('The optimized circuit is not valid for the backend')\n",
    "        print('Now compile it')\n",
    "        return backend.get_compiled_circuit(circ)"
   ]
  },
  {
   "cell_type": "code",
   "execution_count": 8,
   "id": "925fa54a",
   "metadata": {},
   "outputs": [
    {
     "name": "stdout",
     "output_type": "stream",
     "text": [
      "Circuit depth after the optimization:\n",
      "Qubits: 4\n",
      "Depth: 65\n",
      "Depth CX: 44\n"
     ]
    }
   ],
   "source": [
    "# Optimize the H2 example\n",
    "circ = CircHH\n",
    "pass1 = SequencePass([OptimisePhaseGadgets(), CommuteThroughMultis(), RemoveRedundancies()])\n",
    "circ1 = OptiCircuit(circ,cost1,pass1)\n",
    "print('Circuit depth after the optimization:')\n",
    "CircuitPara(circ1)"
   ]
  },
  {
   "cell_type": "code",
   "execution_count": 10,
   "id": "00c49f26",
   "metadata": {},
   "outputs": [
    {
     "name": "stdout",
     "output_type": "stream",
     "text": [
      "The optimized circuit is not valid for the backend\n",
      "Now compile it\n",
      "Final circuit parameters:\n",
      "Qubits: 4\n",
      "Depth: 84\n",
      "Depth CX: 47\n"
     ]
    }
   ],
   "source": [
    "#b = AerBackend()\n",
    "#b = AerStateBackend()\n",
    "b = IBMQEmulatorBackend('ibmq_lima', hub='ibm-q', group='open', project='main') #belem, manila, quito,lima\n",
    "circ2 = CompToBackend(circ1,b)\n",
    "print('Final circuit parameters:')\n",
    "CircuitPara(circ2)"
   ]
  },
  {
   "cell_type": "code",
   "execution_count": 11,
   "id": "cbeb88fb",
   "metadata": {},
   "outputs": [
    {
     "name": "stdout",
     "output_type": "stream",
     "text": [
      "Circuit depth after the optimization:\n",
      "Qubits: 12\n",
      "Depth: 8573\n",
      "Depth CX: 7330\n"
     ]
    }
   ],
   "source": [
    "# Optimize the LiH example\n",
    "circ = CircLiH\n",
    "pass1 = SequencePass([OptimisePhaseGadgets(), CommuteThroughMultis(), RemoveRedundancies()])\n",
    "circ1 = OptiCircuit(circ,cost1,pass1)\n",
    "print('Circuit depth after the optimization:')\n",
    "CircuitPara(circ1)"
   ]
  },
  {
   "cell_type": "code",
   "execution_count": 12,
   "id": "bcc16ea3",
   "metadata": {},
   "outputs": [
    {
     "name": "stdout",
     "output_type": "stream",
     "text": [
      "The optimized circuit is valid for the backend\n",
      "Final circuit parameters:\n",
      "Qubits: 12\n",
      "Depth: 8573\n",
      "Depth CX: 7330\n"
     ]
    }
   ],
   "source": [
    "#b = AerBackend()\n",
    "b = AerStateBackend()\n",
    "#b = IBMQEmulatorBackend('ibmq_lima', hub='ibm-q', group='open', project='main') #belem, manila, quito,lima\n",
    "circ2 = CompToBackend(circ1,b)\n",
    "print('Final circuit parameters:')\n",
    "CircuitPara(circ2)"
   ]
  },
  {
   "cell_type": "code",
   "execution_count": null,
   "id": "c9010ddf",
   "metadata": {},
   "outputs": [],
   "source": []
  }
 ],
 "metadata": {
  "kernelspec": {
   "display_name": "Python 3 (ipykernel)",
   "language": "python",
   "name": "python3"
  },
  "language_info": {
   "codemirror_mode": {
    "name": "ipython",
    "version": 3
   },
   "file_extension": ".py",
   "mimetype": "text/x-python",
   "name": "python",
   "nbconvert_exporter": "python",
   "pygments_lexer": "ipython3",
   "version": "3.8.13"
  }
 },
 "nbformat": 4,
 "nbformat_minor": 5
}
